{
 "cells": [
  {
   "cell_type": "code",
   "execution_count": 24,
   "id": "0fd6e60d",
   "metadata": {},
   "outputs": [],
   "source": [
    "from firedrake import *\n",
    "import numpy as np\n",
    "import matplotlib . pyplot as plt\n",
    "import time\n"
   ]
  },
  {
   "cell_type": "code",
   "execution_count": 25,
   "id": "7b253552",
   "metadata": {},
   "outputs": [
    {
     "name": "stdout",
     "output_type": "stream",
     "text": [
      "0.8926780341023068\n"
     ]
    }
   ],
   "source": [
    "H = 0.004      # Height of the channel, m\n",
    "L = 0.004      # Width of the channel, m\n",
    "T_in = Constant(293.15)     # Inlet temperature, K\n",
    "q_ = 1e5        # Heat flux, W/m^2\n",
    "rho_f = 997       # Density of the fluid, kg/m^3\n",
    "mu_f = 8.9e-4     # Dynamic viscosity of the fluid, Pa.s\n",
    "k_f = 0.6       # Thermal conductivity of the fluid, W/m.K\n",
    "c_pf = 4182       # Specific heat capacity of the fluid, J/kg.K\n",
    "k_s = 400         # Thermal conductivity of the solid, W/m.K\n",
    "\n",
    "#We define inlet velocity to gain a Re of around 4000\n",
    "\n",
    "Re = 4000\n",
    "U = Re * mu_f / (rho_f * H)  \n",
    "\n",
    "print(U)\n",
    "\n",
    "\n",
    "\n",
    "\n",
    "\n",
    "\n"
   ]
  },
  {
   "cell_type": "code",
   "execution_count": 26,
   "id": "25266a73",
   "metadata": {},
   "outputs": [
    {
     "name": "stderr",
     "output_type": "stream",
     "text": [
      "/home/dave/venv-firedrake/lib/python3.10/site-packages/firedrake/_deprecation.py:65: UserWarning: The use of `File` for output is deprecated, please update your code to use `VTKFile` from `firedrake.output`.\n",
      "  warn(\n"
     ]
    }
   ],
   "source": [
    "from firedrake import *\n",
    "import pyvista as pv\n",
    "from scipy.interpolate import RegularGridInterpolator\n",
    "import numpy as np\n",
    "\n",
    "grid = pv.read(\"/home/dave/CHT-model/U_x2999_coarse.vtr\")\n",
    "data = grid[\"U_x_vtk\"]\n",
    "x = np.unique(grid.x)\n",
    "y = np.unique(grid.y)\n",
    "z = np.unique(grid.z)\n",
    "U_field = data.reshape((len(x), len(y), len(z)), order='F')\n",
    "interp = RegularGridInterpolator((x, y, z), U_field)\n",
    "Lx_phys = 0.02    # 2 cm\n",
    "Ly_phys = 0.004   # 4 mm\n",
    "Lz_phys = 0.004   # 4 mm\n",
    "nx, ny, nz = grid.dimensions[0]-1, grid.dimensions[1]-1, grid.dimensions[2]-1\n",
    "mesh = BoxMesh(nx, ny, nz, Lx_phys, Ly_phys, Lz_phys)\n",
    "V = FunctionSpace(mesh, \"CG\", 1)\n",
    "u = Function(V)\n",
    "coords = mesh.coordinates.dat.data\n",
    "xmin, xmax, ymin, ymax, zmin, zmax = grid.bounds\n",
    "\n",
    "# Rescale to physical lengths\n",
    "coords_scaled = np.zeros_like(coords)\n",
    "coords_scaled[:, 0] = xmin + coords[:, 0] / Lx_phys * (xmax - xmin)\n",
    "coords_scaled[:, 1] = ymin + coords[:, 1] / Ly_phys * (ymax - ymin)\n",
    "coords_scaled[:, 2] = zmin + coords[:, 2] / Lz_phys * (zmax - zmin)\n",
    "\n",
    "u.dat.data[:] = 1.3e4 * U * interp(coords_scaled)\n",
    "\n",
    "# Bigger mesh to allocate hot plate\n",
    "extra_y = 0.001  # 2 mm\n",
    "ny_extra = 5\n",
    "Ly_big = Ly_phys + extra_y  # 0.004 + 0.002 = 0.006 m\n",
    "\n",
    "big_mesh = BoxMesh(nx, ny + ny_extra, nz, Lx_phys, Ly_big, Lz_phys)\n",
    "S = VectorFunctionSpace(big_mesh, 'CG', 1)\n",
    "\n",
    "U_LBE = Function(S)\n",
    "U_LBE.interpolate(as_vector([u, 0*u, 0*u]), allow_missing_dofs=True)\n",
    "\n",
    "File(\"CHT-model/u_lbe_scaled.pvd\").write(U_LBE)\n"
   ]
  },
  {
   "cell_type": "code",
   "execution_count": null,
   "id": "1f793854",
   "metadata": {},
   "outputs": [
    {
     "name": "stderr",
     "output_type": "stream",
     "text": [
      "/home/dave/venv-firedrake/lib/python3.10/site-packages/firedrake/_deprecation.py:65: UserWarning: The use of `File` for output is deprecated, please update your code to use `VTKFile` from `firedrake.output`.\n",
      "  warn(\n",
      "/home/dave/venv-firedrake/lib/python3.10/site-packages/firedrake/_deprecation.py:65: UserWarning: The use of `File` for output is deprecated, please update your code to use `VTKFile` from `firedrake.output`.\n",
      "  warn(\n"
     ]
    }
   ],
   "source": [
    "M = FunctionSpace(big_mesh, \"DG\", 0)\n",
    "\n",
    "k = Function(M, name=\"thermal_conductivity\")\n",
    "x, y, z = SpatialCoordinate(big_mesh)\n",
    "k_expr = conditional(y >= 0.004, k_s, k_f)\n",
    "k.interpolate(k_expr)\n",
    "File(\"CHT-model/k.pvd\").write(k)\n",
    "\n",
    "\n",
    "# Volumetric heat capacity (rho * cp) piecewise\n",
    "rho_cp = Function(M)\n",
    "rho_cp_espr = conditional(y < 0.004, rho_f * c_pf, 0.0)  # Assuming solid has very high volumetric heat capacity\n",
    "rho_cp.interpolate(rho_cp_espr)\n",
    "File(\"CHT-model/rho_cp.pvd\").write(rho_cp)\n",
    "\n",
    "\n"
   ]
  },
  {
   "cell_type": "code",
   "execution_count": 28,
   "id": "f8405f66",
   "metadata": {},
   "outputs": [],
   "source": [
    "Z = FunctionSpace(big_mesh, 'CG', 2)\n",
    "T = TrialFunction(Z)\n",
    "eta = TestFunction(Z)\n",
    "\n",
    "bcT_in = DirichletBC(Z, T_in, 1)\n",
    "\n",
    "def thermal(T, eta, u):\n",
    "    a = k*inner(grad(T), grad(eta))*dx \\\n",
    "      + (rho_cp) * dot(u, grad(T)) * eta * dx\n",
    "    L = q_ * eta * ds(4, domain=big_mesh)\n",
    "    return a, L\n",
    "\n",
    "def thermal_supg(T, eta, uh):\n",
    "\n",
    "    ubar = Function(FunctionSpace(big_mesh, 'DG', 0))\n",
    "    ubar.project(sqrt(inner(uh, uh)))\n",
    "    h = CellDiameter(big_mesh)\n",
    "    delta_K = Function(ubar.function_space())\n",
    "    delta_K = 0.2 * h / (ubar+1e-5)\n",
    "\n",
    "    a = k * inner(grad(T), grad(eta)) * dx  \\\n",
    "        + (rho_cp) * inner(grad(T), uh) * eta * dx \\\n",
    "        + (delta_K * inner(uh, grad(T)) ) * \\\n",
    "            ((rho_cp) * inner(uh, grad(eta))) * dx\n",
    "    L = q_ * eta * ds(4, domain=big_mesh)\n",
    "\n",
    "    return a, L\n",
    "\n",
    "outfileT = File(\"CHT-model/output/temperature_3d.pvd\")\n",
    "Th = Function(Z)\n",
    "# Initial guess is isothermal field at T_in\n",
    "Th.interpolate(T_in)\n",
    "Th.rename(\"Temperature (K)\")\n",
    "outfileT.write(Th)\n",
    "\n",
    "a_T, L_T = thermal_supg(T, eta, U_LBE)\n",
    "pb_T = LinearVariationalProblem(a_T, L_T, Th, bcT_in)\n",
    "solver_T =  LinearVariationalSolver(pb_T)#, solver_parameters=param)\n",
    "solver_T.solve()\n",
    "Th.rename(\"Temperature (K)\")\n",
    "outfileT.write(Th)\n",
    "\n"
   ]
  }
 ],
 "metadata": {
  "kernelspec": {
   "display_name": "Python 3 (ipykernel)",
   "language": "python",
   "name": "python3"
  },
  "language_info": {
   "codemirror_mode": {
    "name": "ipython",
    "version": 3
   },
   "file_extension": ".py",
   "mimetype": "text/x-python",
   "name": "python",
   "nbconvert_exporter": "python",
   "pygments_lexer": "ipython3",
   "version": "3.10.12"
  }
 },
 "nbformat": 4,
 "nbformat_minor": 5
}
